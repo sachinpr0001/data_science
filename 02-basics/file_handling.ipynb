{
 "cells": [
  {
   "cell_type": "markdown",
   "metadata": {},
   "source": [
    "### File Handling\n"
   ]
  },
  {
   "cell_type": "code",
   "execution_count": 7,
   "metadata": {},
   "outputs": [
    {
     "data": {
      "text/plain": [
       "'hello Worldhello Worldhello World'"
      ]
     },
     "execution_count": 7,
     "metadata": {},
     "output_type": "execute_result"
    }
   ],
   "source": [
    "f = open(\"sample_file.txt\", 'r')\n",
    "f.read()"
   ]
  },
  {
   "cell_type": "code",
   "execution_count": 5,
   "metadata": {},
   "outputs": [],
   "source": [
    "#f.close()"
   ]
  },
  {
   "cell_type": "code",
   "execution_count": 21,
   "metadata": {},
   "outputs": [],
   "source": [
    "#writing a list to a file (having multiple lines, basically)\n",
    "f = open(\"sample_file.txt\", 'w')\n",
    "\n",
    "content = \"hello World\\n\"\n",
    "l = [content]*3\n",
    "\n",
    "f.writelines(l)\n",
    "f.close()"
   ]
  },
  {
   "cell_type": "code",
   "execution_count": 14,
   "metadata": {},
   "outputs": [],
   "source": [
    "#if the content to be written is not a list but a str, we can use f.write() instead of f.writelines()\n",
    "\n",
    "f = open(\"sample_file.txt\", 'w')\n",
    "\n",
    "content = \"hello World\\n\"\n",
    "l = [content]*3\n",
    "\n",
    "f.write(content)\n",
    "f.close()"
   ]
  },
  {
   "cell_type": "markdown",
   "metadata": {},
   "source": [
    "### Reading from a File"
   ]
  },
  {
   "cell_type": "code",
   "execution_count": 22,
   "metadata": {},
   "outputs": [
    {
     "name": "stdout",
     "output_type": "stream",
     "text": [
      "hello World\n",
      "hello World\n",
      "hello World\n",
      "\n"
     ]
    }
   ],
   "source": [
    "f = open(\"sample_file.txt\", 'r')\n",
    "print(f.read())"
   ]
  },
  {
   "cell_type": "code",
   "execution_count": 23,
   "metadata": {},
   "outputs": [
    {
     "name": "stdout",
     "output_type": "stream",
     "text": [
      "hello World\n",
      "\n"
     ]
    }
   ],
   "source": [
    "f = open(\"sample_file.txt\", 'r')\n",
    "print(f.readline())"
   ]
  },
  {
   "cell_type": "code",
   "execution_count": 24,
   "metadata": {},
   "outputs": [
    {
     "name": "stdout",
     "output_type": "stream",
     "text": [
      "['hello World\\n', 'hello World\\n', 'hello World\\n']\n"
     ]
    }
   ],
   "source": [
    "f = open(\"sample_file.txt\", 'r')\n",
    "print(f.readlines())"
   ]
  },
  {
   "cell_type": "code",
   "execution_count": 25,
   "metadata": {},
   "outputs": [
    {
     "name": "stdout",
     "output_type": "stream",
     "text": [
      "['hello World\\n', 'hello World\\n', 'hello World\\n']\n",
      "<class 'list'>\n"
     ]
    }
   ],
   "source": [
    "f = open(\"sample_file.txt\", 'r')\n",
    "l = f.readlines()\n",
    "print(l)\n",
    "print(type(l))\n",
    "f.close()"
   ]
  },
  {
   "cell_type": "markdown",
   "metadata": {},
   "source": [
    "### Reading using WITH OPEN"
   ]
  },
  {
   "cell_type": "code",
   "execution_count": 35,
   "metadata": {},
   "outputs": [
    {
     "name": "stdout",
     "output_type": "stream",
     "text": [
      "False\n",
      "hello World\n",
      "hello World\n",
      "hello World\n",
      "\n",
      "True\n"
     ]
    }
   ],
   "source": [
    "with open(\"sample_file.txt\", 'r') as f:\n",
    "    print(f.closed)\n",
    "    print(f.read())\n",
    "    f.close()\n",
    "    print(f.closed)\n",
    "    if f.closed == False:\n",
    "        print(f.read())"
   ]
  },
  {
   "cell_type": "code",
   "execution_count": 34,
   "metadata": {},
   "outputs": [
    {
     "name": "stdout",
     "output_type": "stream",
     "text": [
      "True\n"
     ]
    }
   ],
   "source": [
    "f.close()\n",
    "print(f.closed)"
   ]
  },
  {
   "cell_type": "code",
   "execution_count": 41,
   "metadata": {},
   "outputs": [
    {
     "name": "stdout",
     "output_type": "stream",
     "text": [
      "False\n",
      "hello World\n",
      "hello World\n",
      "hello World\n",
      "\n"
     ]
    }
   ],
   "source": [
    "# the file is open only in this cell\n",
    "with open(\"sample_file.txt\", 'r') as f:\n",
    "    print(f.closed)\n",
    "    print(f.read())\n",
    "    # Automaticaly closes the file, this ensures cleanup"
   ]
  },
  {
   "cell_type": "code",
   "execution_count": 42,
   "metadata": {},
   "outputs": [
    {
     "name": "stdout",
     "output_type": "stream",
     "text": [
      "True\n"
     ]
    }
   ],
   "source": [
    "# the file is closed here. \n",
    "#even when we opened the file in the above cell and did not close it.\n",
    "print(f.closed)"
   ]
  },
  {
   "cell_type": "code",
   "execution_count": 43,
   "metadata": {},
   "outputs": [
    {
     "name": "stdout",
     "output_type": "stream",
     "text": [
      " World\n",
      "hello World\n",
      "hello World\n",
      "\n"
     ]
    }
   ],
   "source": [
    "with open (\"sample_file.txt\", 'r') as f:\n",
    "    f.seek(5)\n",
    "    print(f.read())"
   ]
  }
 ],
 "metadata": {
  "kernelspec": {
   "display_name": "Python 3",
   "language": "python",
   "name": "python3"
  },
  "language_info": {
   "codemirror_mode": {
    "name": "ipython",
    "version": 3
   },
   "file_extension": ".py",
   "mimetype": "text/x-python",
   "name": "python",
   "nbconvert_exporter": "python",
   "pygments_lexer": "ipython3",
   "version": "3.8.2"
  }
 },
 "nbformat": 4,
 "nbformat_minor": 4
}

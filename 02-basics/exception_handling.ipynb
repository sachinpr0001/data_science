{
 "cells": [
  {
   "cell_type": "markdown",
   "metadata": {},
   "source": [
    "### not gonna discuss 'Syntax Error'"
   ]
  },
  {
   "cell_type": "markdown",
   "metadata": {},
   "source": [
    "## will discuss errors while code execution"
   ]
  },
  {
   "cell_type": "markdown",
   "metadata": {},
   "source": [
    "### Try Except"
   ]
  },
  {
   "cell_type": "code",
   "execution_count": 3,
   "metadata": {},
   "outputs": [
    {
     "ename": "FileNotFoundError",
     "evalue": "[Errno 2] No such file or directory: 'someMissingFile.txt'",
     "output_type": "error",
     "traceback": [
      "\u001b[1;31m---------------------------------------------------------------------------\u001b[0m",
      "\u001b[1;31mFileNotFoundError\u001b[0m                         Traceback (most recent call last)",
      "\u001b[1;32m<ipython-input-3-22effdb5a918>\u001b[0m in \u001b[0;36m<module>\u001b[1;34m\u001b[0m\n\u001b[1;32m----> 1\u001b[1;33m \u001b[0mf\u001b[0m \u001b[1;33m=\u001b[0m \u001b[0mopen\u001b[0m\u001b[1;33m(\u001b[0m\u001b[1;34m\"someMissingFile.txt\"\u001b[0m\u001b[1;33m,\u001b[0m \u001b[1;34m'r'\u001b[0m\u001b[1;33m)\u001b[0m\u001b[1;33m\u001b[0m\u001b[1;33m\u001b[0m\u001b[0m\n\u001b[0m",
      "\u001b[1;31mFileNotFoundError\u001b[0m: [Errno 2] No such file or directory: 'someMissingFile.txt'"
     ]
    }
   ],
   "source": [
    "\n",
    "f = open(\"someMissingFile.txt\", 'r')"
   ]
  },
  {
   "cell_type": "code",
   "execution_count": 4,
   "metadata": {},
   "outputs": [
    {
     "name": "stdout",
     "output_type": "stream",
     "text": [
      "Something went wrong\n"
     ]
    }
   ],
   "source": [
    "try:\n",
    "    f = open(\"someMissingFile.txt\", 'r')\n",
    "except:\n",
    "    print(\"Something went wrong\")"
   ]
  },
  {
   "cell_type": "code",
   "execution_count": 5,
   "metadata": {},
   "outputs": [
    {
     "name": "stdout",
     "output_type": "stream",
     "text": [
      "Something went wrong\n",
      "<class 'Exception'>\n"
     ]
    }
   ],
   "source": [
    "try:\n",
    "    f = open(\"someMissingFile.txt\", 'r')\n",
    "except Exception:\n",
    "    print(\"Something went wrong\")\n",
    "    print(Exception)"
   ]
  },
  {
   "cell_type": "code",
   "execution_count": 7,
   "metadata": {},
   "outputs": [
    {
     "name": "stdout",
     "output_type": "stream",
     "text": [
      "File doesnt exist. Please re-uplaod\n"
     ]
    }
   ],
   "source": [
    "try:\n",
    "    f = open(\"someMissingFile.txt\", 'r')\n",
    "except FileNotFoundError:\n",
    "    print(\"File doesnt exist. Please re-uplaod\")\n",
    "except Exception:\n",
    "    print(\"Something went wrong\")\n",
    "    print(Exception)"
   ]
  },
  {
   "cell_type": "code",
   "execution_count": 9,
   "metadata": {},
   "outputs": [
    {
     "name": "stdout",
     "output_type": "stream",
     "text": [
      "Something went wrong\n",
      "<class 'Exception'>\n"
     ]
    }
   ],
   "source": [
    "#zero division error\n",
    "try:\n",
    "    a = 10/0\n",
    "    f = open(\"someMissingFile.txt\", 'r')\n",
    "except FileNotFoundError:\n",
    "    print(\"File doesnt exist. Please re-uplaod\")\n",
    "except Exception:\n",
    "    print(\"Something went wrong\")\n",
    "    print(Exception)"
   ]
  },
  {
   "cell_type": "code",
   "execution_count": 11,
   "metadata": {},
   "outputs": [
    {
     "name": "stdout",
     "output_type": "stream",
     "text": [
      "b is not defined\n",
      "<class 'NameError'>\n"
     ]
    }
   ],
   "source": [
    "try:\n",
    "    a = b\n",
    "    f = open(\"someMissingFile.txt\", 'r')\n",
    "except FileNotFoundError:\n",
    "    print(\"File doesnt exist. Please re-uplaod\")\n",
    "    \n",
    "except NameError:\n",
    "    print(\"b is not defined\")\n",
    "    print(NameError)\n",
    "except Exception:\n",
    "    print(\"Something went wrong\")\n",
    "    print(Exception)"
   ]
  },
  {
   "cell_type": "code",
   "execution_count": 14,
   "metadata": {},
   "outputs": [
    {
     "name": "stdout",
     "output_type": "stream",
     "text": [
      "Enter your nameSachin\n",
      "Try executed without any error\n",
      "Form Submitted Successfully\n"
     ]
    }
   ],
   "source": [
    "try:\n",
    "    a = input(\"Enter your name\")\n",
    "    #f = open(\"someMissingFile.txt\", 'r')\n",
    "except FileNotFoundError:\n",
    "    print(\"File doesnt exist. Please re-uplaod\")\n",
    "    \n",
    "except NameError:\n",
    "    print(\"b is not defined\")\n",
    "    print(NameError)\n",
    "except Exception:\n",
    "    print(\"Something went wrong\")\n",
    "    print(Exception)\n",
    "    \n",
    "else:\n",
    "    print(\"Try executed without any error\")\n",
    "    print(\"Form Submitted Successfully\")"
   ]
  },
  {
   "cell_type": "code",
   "execution_count": 15,
   "metadata": {},
   "outputs": [
    {
     "name": "stdout",
     "output_type": "stream",
     "text": [
      "Enter your nameaa\n",
      "Please enter a valid name\n"
     ]
    }
   ],
   "source": [
    "try:\n",
    "    a = input(\"Enter your name\")\n",
    "    #f = open(\"someMissingFile.txt\", 'r')\n",
    "    if (len(a)<3):\n",
    "        raise Exception\n",
    "    \n",
    "except FileNotFoundError:\n",
    "    print(\"File doesnt exist. Please re-uplaod\")\n",
    "    \n",
    "except NameError:\n",
    "    print(\"b is not defined\")\n",
    "    print(NameError)\n",
    "except Exception:\n",
    "    print(\"Please enter a valid name\")\n",
    "    #print(Exception)\n",
    "    \n",
    "else:\n",
    "    print(\"Try executed without any error\")\n",
    "    print(\"Form Submitted Successfully\")"
   ]
  },
  {
   "cell_type": "code",
   "execution_count": 17,
   "metadata": {},
   "outputs": [
    {
     "name": "stdout",
     "output_type": "stream",
     "text": [
      "Enter your namesachin\n",
      "Try executed without any error\n",
      "Form Submitted Successfully\n",
      "it is always there\n"
     ]
    }
   ],
   "source": [
    "try:\n",
    "    a = input(\"Enter your name\")\n",
    "    #f = open(\"someMissingFile.txt\", 'r')\n",
    "    if (len(a)<3):\n",
    "        raise Exception\n",
    "    \n",
    "except FileNotFoundError:\n",
    "    print(\"File doesnt exist. Please re-uplaod\")\n",
    "    \n",
    "except NameError:\n",
    "    print(\"b is not defined\")\n",
    "    print(NameError)\n",
    "except Exception:\n",
    "    print(\"Please enter a valid name\")\n",
    "    #print(Exception)\n",
    "    \n",
    "else:\n",
    "    print(\"Try executed without any error\")\n",
    "    print(\"Form Submitted Successfully\")\n",
    "    \n",
    "    \n",
    "finally:\n",
    "    print(\"it is always there\")"
   ]
  }
 ],
 "metadata": {
  "kernelspec": {
   "display_name": "Python 3",
   "language": "python",
   "name": "python3"
  },
  "language_info": {
   "codemirror_mode": {
    "name": "ipython",
    "version": 3
   },
   "file_extension": ".py",
   "mimetype": "text/x-python",
   "name": "python",
   "nbconvert_exporter": "python",
   "pygments_lexer": "ipython3",
   "version": "3.8.2"
  }
 },
 "nbformat": 4,
 "nbformat_minor": 4
}

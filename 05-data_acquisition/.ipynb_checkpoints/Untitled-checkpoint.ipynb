{
 "cells": [
  {
   "cell_type": "code",
   "execution_count": null,
   "metadata": {
    "scrolled": true
   },
   "outputs": [
    {
     "name": "stdout",
     "output_type": "stream",
     "text": [
      "Chuck Norris uses ribbed condoms inside out, so he gets the pleasure.\n",
      "MacGyver can build an airplane out of gum and paper clips. Chuck Norris can kill him and take it.\n",
      "Chuck Norris doesn't read books. He stares them down until he gets the information he wants.\n",
      "If you ask Chuck Norris what time it is, he always answers &quot;Two seconds till&quot;. After you ask &quot;Two seconds to what?&quot;, he roundhouse kicks you in the face.\n",
      "Chuck Norris lost his virginity before his dad did.\n",
      "Since 1940, the year Chuck Norris was born, roundhouse kick related deaths have increased 13,000 percent.\n",
      "Chuck Norris sheds his skin twice a year.\n",
      "Chuck Norris once challenged Lance Armstrong in a &quot;Who has more testicles?&quot; contest. Chuck Norris won by 5.\n",
      "There are no steroids in baseball. Just players Chuck Norris has breathed on.\n",
      "When Chuck Norris goes to donate blood, he declines the syringe, and instead requests a hand gun and a bucket.\n",
      "Pluto is actually an orbiting group of British soldiers from the American Revolution who entered space after the Chuck gave them a roundhouse kick to the face.\n",
      "Chuck Norris does not teabag the ladies. He potato-sacks them.\n",
      "According to the Encyclopedia Brittanica, the Native American &quot;Trail of Tears&quot; has been redefined as anywhere that Chuck Norris walks.\n",
      "In an average living room there are 1,242 objects Chuck Norris could use to kill you, including the room itself.\n",
      "The Chuck Norris military unit was not used in the game Civilization 4, because a single Chuck Norris could defeat the entire combined nations of the world in one turn.\n",
      "Chuck Norris doesn't shower, he only takes blood baths.\n",
      "Time waits for no man. Unless that man is Chuck Norris.\n",
      "Chuck Norris can hit you so hard that he can actually alter your DNA. Decades from now your descendants will occasionally clutch their heads and yell &quot;What The Hell was That?&quot;.\n",
      "In the Bible, Jesus turned water into wine. But then Chuck Norris turned that wine into beer.\n",
      "Chuck Norris is the only human being to display the Heisenberg uncertainty principle - you can never know both exactly where and how quickly he will roundhouse-kick you in the face.\n",
      "Faster than a speeding bullet... More powerful than a locomotive... Able to leap tall buildings in a single bound... These are some of Chuck Norris's warm-up exercises.\n",
      "Chuck Norris is not hung like a horse. Horses are hung like Chuck Norris.\n",
      "Teenage Mutant Ninja Turtles is based on a true story: Chuck Norris once swallowed a turtle whole, and when he crapped it out, the turtle was six feet tall and had learned karate.\n",
      "Someone once tried to tell Chuck Norris that roundhouse kicks aren't the best way to kick someone. This has been recorded by historians as the worst mistake anyone has ever made.\n",
      "Chuck Norris has two speeds: Walk and Kill.\n",
      "Chuck Norris once shot down a German fighter plane with his finger. By yelling &quot;Bang!&quot;\n",
      "The opening scene of the movie &quot;Saving Private Ryan&quot; is loosely based on games of dodgeball Chuck Norris played in second grade.\n",
      "Fool me once, shame on you. Fool Chuck Norris once and he will roundhouse kick you in the face.\n",
      "Chuck Norris originally appeared in the &quot;Street Fighter II&quot; video game, but was removed by Beta Testers because every button caused him to do a roundhouse kick. When asked about this glitch, Norris replied &quot;That's no glitch.&quot;\n",
      "If you spell Chuck Norris in Scrabble, you win. Forever.\n",
      "Someone once videotaped Chuck Norris getting pissed off. It was called Walker: Texas Chain Saw Masacre.\n",
      "Chuck Norris will attain statehood in 2009. His state flower will be the Magnolia.\n",
      "A handicapped parking sign does not signify that this spot is for handicapped people. It is actually in fact a warning, that the spot belongs to Chuck Norris and that you will be handicapped if you park there.\n",
      "Chuck Norris doesn't wash his clothes. He disembowels them.\n",
      "Chuck Norris doesn't churn butter. He roundhouse kicks the cows and the butter comes straight out.\n",
      "Police label anyone attacking Chuck Norris as a Code 45-11.... A suicide.\n",
      "Chuck Norris is the only man to ever defeat a brick wall in a game of tennis.\n",
      "What was going through the minds of all of Chuck Norris' victims before they died? His shoe.\n",
      "Chuck Norris once ate three 72 oz. steaks in one hour. He spent the first 45 minutes having sex with his waitress.\n",
      "There is no theory of evolution, just a list of creatures Chuck Norris allows to live.\n",
      "Chuck Norris can win a game of Connect Four in only three moves.\n",
      "CNN was originally created as the &quot;Chuck Norris Network&quot; to update Americans with on-the-spot ass kicking in real-time.\n",
      "Chuck Norris invented Kentucky Fried Chicken's famous secret recipe with eleven herbs and spices. Nobody ever mentions the twelfth ingredient: Fear.\n",
      "The quickest way to a man's heart is with Chuck Norris' fist.\n",
      "When Chuck Norris sends in his taxes, he sends blank forms and includes only a picture of himself, crouched and ready to attack. Chuck Norris has not had to pay taxes, ever.\n",
      "Chuck Norris drives an ice cream truck covered in human skulls.\n",
      "Most people have 23 pairs of chromosomes. Chuck Norris has 72... and they're all poisonous.\n",
      "The Great Wall of China was originally created to keep Chuck Norris out. It failed miserably.\n",
      "Chuck Norris is ten feet tall, weighs two-tons, breathes fire, and could eat a hammer and take a shotgun blast standing.\n",
      "Crop circles are Chuck Norris' way of telling the world that sometimes corn needs to lie down.\n",
      "Chuck Norris once roundhouse kicked someone so hard that his foot broke the speed of light, went back in time, and killed Amelia Earhart while she was flying over the Pacific Ocean.\n",
      "When Chuck Norris calls 1-900 numbers, he doesn't get charged. He holds up the phone and money falls out.\n",
      "Chuck Norris once ate a whole cake before his friends could tell him there was a stripper in it.\n",
      "Some people like to eat frogs' legs. Chuck Norris likes to eat lizard legs. Hence, snakes.\n",
      "There are no races, only countries of people Chuck Norris has beaten to different shades of black and blue.\n",
      "When Chuck Norris was denied an Egg McMuffin at McDonald's because it was 10:35, he roundhouse kicked the store so hard it became a Wendy's.\n",
      "Chuck Norris can't finish a &quot;color by numbers&quot; because his markers are filled with the blood of his victims. Unfortunately, all blood is dark red.\n",
      "A Chuck Norris-delivered Roundhouse Kick is the preferred method of execution in 16 states.\n",
      "When Chuck Norris falls in water, Chuck Norris doesn't get wet. Water gets Chuck Norris.\n",
      "Scientists have estimated that the energy given off during the Big Bang is roughly equal to 1CNRhK (Chuck Norris Roundhouse Kick).\n",
      "Chuck Norris' house has no doors, only walls that he walks through.\n",
      "When Chuck Norris has sex with a man, it won't be because he is gay. It will be because he has run out of women.\n"
     ]
    }
   ],
   "source": [
    "import pandas as pd\n",
    "import numpy as np\n",
    "import requests\n",
    "import json\n",
    "file = open('ID.csv')\n",
    "csvreader = csv.reader(file)\n",
    "rows = []\n",
    "\n",
    "for row in csvreader:\n",
    "        rows.append(row)\n",
    "rows = rows[1:]\n",
    "jokes = []\n",
    "id_array = []\n",
    "for list_index in rows:\n",
    "    id = list_index[0]\n",
    "    id_array.append(id)\n",
    "    url = \"http://api.icndb.com/jokes/{}\".format(id)\n",
    "    response = requests.get(url)\n",
    "    joke_dict = json.loads(response.content.decode('utf-8'))\n",
    "    joke = joke_dict[\"value\"][\"joke\"]\n",
    "    print(joke)\n",
    "    jokes.append(joke)\n",
    "combined = np.vstack((id_array, jokes)).T\n",
    "df=pd.DataFrame(combined, columns=['ID', 'Jokes']) \n",
    "df.to_csv(\"submission.csv\", index=False)"
   ]
  },
  {
   "cell_type": "code",
   "execution_count": null,
   "metadata": {},
   "outputs": [],
   "source": []
  },
  {
   "cell_type": "code",
   "execution_count": 18,
   "metadata": {},
   "outputs": [],
   "source": [
    "combined = np.vstack((id_array, jokes)).T\n",
    "df=pd.DataFrame(combined, columns=['ID', 'Jokes']) \n",
    "df.to_csv(\"submission.csv\", index=False)"
   ]
  },
  {
   "cell_type": "code",
   "execution_count": null,
   "metadata": {},
   "outputs": [],
   "source": []
  },
  {
   "cell_type": "code",
   "execution_count": null,
   "metadata": {},
   "outputs": [],
   "source": []
  },
  {
   "cell_type": "code",
   "execution_count": null,
   "metadata": {},
   "outputs": [],
   "source": []
  }
 ],
 "metadata": {
  "kernelspec": {
   "display_name": "Python 3",
   "language": "python",
   "name": "python3"
  },
  "language_info": {
   "codemirror_mode": {
    "name": "ipython",
    "version": 3
   },
   "file_extension": ".py",
   "mimetype": "text/x-python",
   "name": "python",
   "nbconvert_exporter": "python",
   "pygments_lexer": "ipython3",
   "version": "3.8.10"
  }
 },
 "nbformat": 4,
 "nbformat_minor": 4
}

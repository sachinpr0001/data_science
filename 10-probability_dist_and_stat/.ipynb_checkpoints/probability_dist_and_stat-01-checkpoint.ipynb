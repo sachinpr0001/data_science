{
 "cells": [
  {
   "cell_type": "markdown",
   "metadata": {},
   "source": [
    "## Generate a Normal Distribution (1-D Distribution)"
   ]
  },
  {
   "cell_type": "code",
   "execution_count": 4,
   "metadata": {},
   "outputs": [
    {
     "name": "stdout",
     "output_type": "stream",
     "text": [
      "(1000,)\n"
     ]
    }
   ],
   "source": [
    "import numpy as np\n",
    "import matplotlib.pyplot as plt\n",
    "u = 0\n",
    "sigma = 1\n",
    "# Such a dist. (with mean = 0 and sigma = 1, is also called Standard Normal Distribution)\n",
    "\n",
    "vals = np.random.randn(1000)\n",
    "\n",
    "print(vals.shape)"
   ]
  },
  {
   "cell_type": "code",
   "execution_count": null,
   "metadata": {
    "scrolled": false
   },
   "outputs": [],
   "source": []
  },
  {
   "cell_type": "code",
   "execution_count": 33,
   "metadata": {},
   "outputs": [
    {
     "name": "stdout",
     "output_type": "stream",
     "text": [
      "(1000,)\n"
     ]
    },
    {
     "data": {
      "image/png": "[encoded data removed]",
      "text/plain": [
       "<Figure size 432x288 with 1 Axes>"
      ]
     },
     "metadata": {
      "needs_background": "light"
     },
     "output_type": "display_data"
    }
   ],
   "source": [
    "# now, changing the mean.\n",
    "\n",
    "u = 5\n",
    "sigma = 2\n",
    "\n",
    "vals = u + sigma*np.random.randn(1000)\n",
    "\n",
    "# 1000 = number of points i want to have\n",
    "\n",
    "print(vals.shape)\n",
    "# why did we do this????\n",
    "# - ans in notebook\n",
    "plt.hist(vals,50)\n",
    "\n",
    "# 50 = number of buckets for the histogram\n",
    "# if it were 10, witdth of the bar (bucket) would increase bcoz more points will go in same bucket\n",
    "plt.show()\n"
   ]
  },
  {
   "cell_type": "code",
   "execution_count": 7,
   "metadata": {},
   "outputs": [
    {
     "name": "stdout",
     "output_type": "stream",
     "text": [
      "(1000,)\n"
     ]
    },
    {
     "data": {
      "image/png": "[encoded data removed]",
      "text/plain": [
       "<Figure size 432x288 with 1 Axes>"
      ]
     },
     "metadata": {
      "needs_background": "light"
     },
     "output_type": "display_data"
    }
   ],
   "source": [
    "# now, changing the sigma back to 1 to see the that sigma defines the spread\n",
    "\n",
    "u = 5\n",
    "sigma = 1\n",
    "\n",
    "vals = u + sigma*np.random.randn(1000)\n",
    "\n",
    "print(vals.shape)\n",
    "# why did we do this????\n",
    "# - ans in notebook\n",
    "plt.hist(vals,50)\n",
    "plt.show()\n"
   ]
  },
  {
   "cell_type": "code",
   "execution_count": 8,
   "metadata": {},
   "outputs": [],
   "source": [
    "# What is this histogram depicting?\n",
    "# - it is showing how many values(no of values OR probability of X) fall in each intervals."
   ]
  },
  {
   "cell_type": "code",
   "execution_count": 29,
   "metadata": {},
   "outputs": [
    {
     "name": "stdout",
     "output_type": "stream",
     "text": [
      "(array([-1.,  0.,  1.,  2.,  3.,  4.,  5.,  6.,  7.,  8.,  9., 10.]), array([ 2,  1,  3,  1, 12, 20, 15, 22, 10,  8,  4,  2]))\n"
     ]
    }
   ],
   "source": [
    "vals = np.round(vals)\n",
    "z = np.unique(vals, return_counts=True)\n",
    "print(z)"
   ]
  },
  {
   "cell_type": "code",
   "execution_count": 11,
   "metadata": {},
   "outputs": [],
   "source": [
    "# first array --> numbers\n",
    "# second array --> frequency (numbers closer to each number from first array)"
   ]
  },
  {
   "cell_type": "code",
   "execution_count": 43,
   "metadata": {},
   "outputs": [
    {
     "data": {
      "image/png": "[encoded data removed]",
      "text/plain": [
       "<Figure size 432x288 with 1 Axes>"
      ]
     },
     "metadata": {
      "needs_background": "light"
     },
     "output_type": "display_data"
    }
   ],
   "source": [
    "# only 100 points\n",
    "u = 5\n",
    "sigma = 1\n",
    "vals = u + sigma*np.random.randn(100)\n",
    "x = vals\n",
    "y = np.zeros(x.shape)\n",
    "plt.scatter(x,y)\n",
    "plt.show()"
   ]
  },
  {
   "cell_type": "code",
   "execution_count": 44,
   "metadata": {},
   "outputs": [
    {
     "data": {
      "image/png": "[encoded data removed]",
      "text/plain": [
       "<Figure size 432x288 with 1 Axes>"
      ]
     },
     "metadata": {
      "needs_background": "light"
     },
     "output_type": "display_data"
    }
   ],
   "source": [
    "# 300 points\n",
    "u = 5\n",
    "sigma = 1\n",
    "vals = u + sigma*np.random.randn(300)\n",
    "x = vals\n",
    "y = np.zeros(x.shape)\n",
    "plt.scatter(x,y)\n",
    "plt.show()"
   ]
  },
  {
   "cell_type": "code",
   "execution_count": 45,
   "metadata": {},
   "outputs": [
    {
     "data": {
      "image/png": "[encoded data removed]",
      "text/plain": [
       "<Figure size 432x288 with 1 Axes>"
      ]
     },
     "metadata": {
      "needs_background": "light"
     },
     "output_type": "display_data"
    }
   ],
   "source": [
    "# 700 points\n",
    "u = 5\n",
    "sigma = 1\n",
    "vals = u + sigma*np.random.randn(700)\n",
    "x = vals\n",
    "y = np.zeros(x.shape)\n",
    "plt.scatter(x,y)\n",
    "plt.show()"
   ]
  },
  {
   "cell_type": "code",
   "execution_count": 46,
   "metadata": {},
   "outputs": [
    {
     "data": {
      "image/png": "[encoded data removed]",
      "text/plain": [
       "<Figure size 432x288 with 1 Axes>"
      ]
     },
     "metadata": {
      "needs_background": "light"
     },
     "output_type": "display_data"
    }
   ],
   "source": [
    "# 100 points\n",
    "# sigma = 3 (spread will increase)\n",
    "u = 5\n",
    "sigma = 3\n",
    "vals = u + sigma*np.random.randn(300)\n",
    "x = vals\n",
    "y = np.zeros(x.shape)\n",
    "plt.scatter(x,y)\n",
    "plt.show()"
   ]
  }
 ],
 "metadata": {
  "kernelspec": {
   "display_name": "Python 3",
   "language": "python",
   "name": "python3"
  },
  "language_info": {
   "codemirror_mode": {
    "name": "ipython",
    "version": 3
   },
   "file_extension": ".py",
   "mimetype": "text/x-python",
   "name": "python",
   "nbconvert_exporter": "python",
   "pygments_lexer": "ipython3",
   "version": "3.8.5"
  }
 },
 "nbformat": 4,
 "nbformat_minor": 4
}

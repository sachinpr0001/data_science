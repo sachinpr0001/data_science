{
 "cells": [
  {
   "cell_type": "markdown",
   "metadata": {},
   "source": [
    "### Linear Algebra\n",
    "\n",
    " In this tutorial, we will cove rsome basics of Linear Algebra as seen in DEEP LEARNING BOOK, with a focus on using numpy.\n",
    " \n",
    " #### 1. Scalers and Vectors\n",
    "- <b>Scaler</b> is a single number, denoted as x.\n",
    "- <b>Vector</b> is an array of scalers, denoted by <b>x</b>.\n",
    "    - Thus, a vector has n scalers, x1, x2, ....., xn\n",
    "    - Note that indexing here begins with 1, unlike python (where it begins with 0)\n",
    "  "
   ]
  },
  {
   "cell_type": "markdown",
   "metadata": {},
   "source": [
    "#### Scalers\n",
    "- x = 5\n",
    "- y = 5.5"
   ]
  },
  {
   "cell_type": "markdown",
   "metadata": {},
   "source": [
    "#### Vectors (generally means column vector)\n",
    "- x = [3 1 5]\n",
    "\n",
    "### We will represent a vector as a column vector.\n",
    "### that is having multiple rows\n"
   ]
  },
  {
   "cell_type": "code",
   "execution_count": 3,
   "metadata": {},
   "outputs": [],
   "source": [
    "import numpy as np"
   ]
  },
  {
   "cell_type": "code",
   "execution_count": 13,
   "metadata": {},
   "outputs": [
    {
     "name": "stdout",
     "output_type": "stream",
     "text": [
      "[4 5 6]\n",
      "(3,)\n"
     ]
    }
   ],
   "source": [
    "#output in the form of a row\n",
    "x1 = np.array([4,5,6])\n",
    "print(x1)\n",
    "print(x1.shape)\n"
   ]
  },
  {
   "cell_type": "code",
   "execution_count": 20,
   "metadata": {},
   "outputs": [
    {
     "name": "stdout",
     "output_type": "stream",
     "text": [
      "[[4]\n",
      " [5]\n",
      " [8]\n",
      " [9]]\n",
      "(4, 1)\n"
     ]
    }
   ],
   "source": [
    "#output in the form of a column\n",
    "x = np.array([[4], [5], [8], [9]])\n",
    "print(x)\n",
    "print(x.shape)"
   ]
  },
  {
   "cell_type": "code",
   "execution_count": 21,
   "metadata": {},
   "outputs": [
    {
     "name": "stdout",
     "output_type": "stream",
     "text": [
      "4\n",
      "[4]\n",
      "4\n"
     ]
    }
   ],
   "source": [
    "# The difference - the change in how we access the elements\n",
    "print(x1[0])\n",
    "print(x[0])\n",
    "print(x[0][0])"
   ]
  },
  {
   "cell_type": "code",
   "execution_count": 22,
   "metadata": {},
   "outputs": [
    {
     "name": "stdout",
     "output_type": "stream",
     "text": [
      "[4 5 8 9]\n"
     ]
    }
   ],
   "source": [
    "x = x.reshape((-1,))\n",
    "print(x)"
   ]
  },
  {
   "cell_type": "code",
   "execution_count": 24,
   "metadata": {},
   "outputs": [
    {
     "name": "stdout",
     "output_type": "stream",
     "text": [
      "[[4 5]\n",
      " [8 9]]\n"
     ]
    }
   ],
   "source": [
    "# Reshape Operation\n",
    "x = x.reshape((-1,2))\n",
    "print(x)"
   ]
  },
  {
   "cell_type": "markdown",
   "metadata": {},
   "source": [
    "#### 2. Matrices and Tensors\n",
    "- <b>Matrix</b> is a 2D array of scalars, denoted by <b><i>X</i></b>\n",
    "    - A matrix has m rows and n columns\n",
    "    - Indexing starts with 0\n",
    "    - Each individual element, such as X(1,1), is a scalar.\n",
    "    - If m = n, the matrix is known as Square Matrix.\n",
    "- <b>Tensor</b> is an array with more than 2 axes, denoted as <b>X</b>\n",
    "    - Think of Tensor as a generalization of an array with more than 2 axes.\n"
   ]
  },
  {
   "cell_type": "code",
   "execution_count": 29,
   "metadata": {},
   "outputs": [
    {
     "name": "stdout",
     "output_type": "stream",
     "text": [
      "(3, 3)\n",
      "[[ 4  5  7]\n",
      " [10 11 13]\n",
      " [56 80 90]]\n"
     ]
    }
   ],
   "source": [
    "# Here is a Matrix\n",
    "X = np.array([[4,5,7], [10,11,13], [56,80,90]])\n",
    "print(X.shape)\n",
    "print(X)"
   ]
  },
  {
   "cell_type": "code",
   "execution_count": 28,
   "metadata": {},
   "outputs": [
    {
     "name": "stdout",
     "output_type": "stream",
     "text": [
      "11\n"
     ]
    }
   ],
   "source": [
    "print(X[1][1])"
   ]
  },
  {
   "cell_type": "code",
   "execution_count": 31,
   "metadata": {},
   "outputs": [
    {
     "name": "stdout",
     "output_type": "stream",
     "text": [
      "[[4 5 7]\n",
      " [2 2 2]\n",
      " [2 2 2]]\n"
     ]
    }
   ],
   "source": [
    "X[1:, :] = 2  # [s:e+1]\n",
    "print(X)"
   ]
  },
  {
   "cell_type": "code",
   "execution_count": 33,
   "metadata": {},
   "outputs": [
    {
     "name": "stdout",
     "output_type": "stream",
     "text": [
      "[[[ 4  5  7]\n",
      "  [10 11 13]]\n",
      "\n",
      " [[56 80 90]\n",
      "  [ 9  8 10]]]\n",
      "(2, 2, 3)\n"
     ]
    }
   ],
   "source": [
    "# Here is a Tensor\n",
    "T = np.array([[[4,5,7], [10,11,13]], [[56,80,90], [9,8,10]]])\n",
    "print(T)\n",
    "print(T.shape)\n",
    "# helpful in neural models, deep learning"
   ]
  },
  {
   "cell_type": "markdown",
   "metadata": {},
   "source": [
    "### 3. Transpose\n",
    "For a 2D matrix, transpose can be obtained as follows:\n",
    "(A^T)(i,j) = A(j,i)\n",
    "For a vector, transpose makes the column vector into a row. Thus a column vector can also be represented as x = [x1,x2,x3]^T"
   ]
  },
  {
   "cell_type": "code",
   "execution_count": 37,
   "metadata": {},
   "outputs": [
    {
     "name": "stdout",
     "output_type": "stream",
     "text": [
      "[[4 5]\n",
      " [8 9]]\n",
      "[[4 8]\n",
      " [5 9]]\n"
     ]
    }
   ],
   "source": [
    "print(x)\n",
    "xt = np.transpose(x)\n",
    "print(xt)"
   ]
  },
  {
   "cell_type": "code",
   "execution_count": 40,
   "metadata": {},
   "outputs": [
    {
     "name": "stdout",
     "output_type": "stream",
     "text": [
      "[[4]\n",
      " [5]\n",
      " [8]\n",
      " [9]]\n",
      "[[4 5 8 9]]\n",
      "(1, 4)\n"
     ]
    }
   ],
   "source": [
    "y = x.reshape(-1,1)\n",
    "print(y)\n",
    "print(np.transpose(y))\n",
    "print(np.transpose(y).shape)"
   ]
  },
  {
   "cell_type": "markdown",
   "metadata": {},
   "source": [
    "### 4. Broadcasting\n",
    "- You can add a scalar to a vector, and numpy will add it to each element in a vector\n",
    "\n",
    "    x + a = xi + a\n",
    "\n",
    "\n",
    "- Similarly, you can add a vector to a matrix, and numpy will add the vector to each column of the matrix"
   ]
  },
  {
   "cell_type": "code",
   "execution_count": 27,
   "metadata": {},
   "outputs": [
    {
     "ename": "TypeError",
     "evalue": "can only concatenate list (not \"int\") to list",
     "output_type": "error",
     "traceback": [
      "\u001b[0;31m---------------------------------------------------------------------------\u001b[0m",
      "\u001b[0;31mTypeError\u001b[0m                                 Traceback (most recent call last)",
      "\u001b[0;32m<ipython-input-27-cbc9648f977f>\u001b[0m in \u001b[0;36m<module>\u001b[0;34m\u001b[0m\n\u001b[1;32m      4\u001b[0m \u001b[0;34m\u001b[0m\u001b[0m\n\u001b[1;32m      5\u001b[0m \u001b[0;31m# Operation 1\u001b[0m\u001b[0;34m\u001b[0m\u001b[0;34m\u001b[0m\u001b[0;34m\u001b[0m\u001b[0m\n\u001b[0;32m----> 6\u001b[0;31m \u001b[0ml\u001b[0m \u001b[0;34m=\u001b[0m \u001b[0ml\u001b[0m \u001b[0;34m+\u001b[0m \u001b[0;36m1\u001b[0m\u001b[0;34m\u001b[0m\u001b[0;34m\u001b[0m\u001b[0m\n\u001b[0m\u001b[1;32m      7\u001b[0m \u001b[0;34m\u001b[0m\u001b[0m\n\u001b[1;32m      8\u001b[0m \u001b[0;31m# Operation 2\u001b[0m\u001b[0;34m\u001b[0m\u001b[0;34m\u001b[0m\u001b[0;34m\u001b[0m\u001b[0m\n",
      "\u001b[0;31mTypeError\u001b[0m: can only concatenate list (not \"int\") to list"
     ]
    }
   ],
   "source": [
    "# Any mathematical operation directly on list throws an error\n",
    "\n",
    "l = [1,2,3,4]\n",
    "\n",
    "# Operation 1\n",
    "l = l + 1\n",
    "\n",
    "# Operation 2\n",
    "l = l **2\n",
    "\n",
    "print(l)"
   ]
  },
  {
   "cell_type": "code",
   "execution_count": 30,
   "metadata": {},
   "outputs": [
    {
     "name": "stdout",
     "output_type": "stream",
     "text": [
      "[2 3 4 5]\n"
     ]
    }
   ],
   "source": [
    "# Numpy allows you to perform math operations directly on a list\n",
    "l = [1,2,3,4]\n",
    "l = np.array(l)\n",
    "l = l + 1\n",
    "print(l)"
   ]
  },
  {
   "cell_type": "code",
   "execution_count": 31,
   "metadata": {},
   "outputs": [
    {
     "name": "stdout",
     "output_type": "stream",
     "text": [
      "[ 1  4  9 16]\n"
     ]
    }
   ],
   "source": [
    "l = [1,2,3,4]\n",
    "l = np.array(l)\n",
    "l = l**2\n",
    "print(l)"
   ]
  },
  {
   "cell_type": "code",
   "execution_count": 36,
   "metadata": {},
   "outputs": [
    {
     "name": "stdout",
     "output_type": "stream",
     "text": [
      "[[ 2  5 10 17]\n",
      " [26 37 50 65]]\n",
      "[[ 3  6 11 18]\n",
      " [27 38 51 66]]\n"
     ]
    }
   ],
   "source": [
    "# For a matrix,\n",
    "\n",
    "l = [[1,2,3,4], [5,6,7,8]]\n",
    "l = np.array(l)\n",
    "l = l**2\n",
    "l+=1\n",
    "print(l)\n",
    "print(l+1)"
   ]
  },
  {
   "cell_type": "code",
   "execution_count": 38,
   "metadata": {},
   "outputs": [
    {
     "data": {
      "text/plain": [
       "array([[1.41421356, 2.23606798, 3.16227766, 4.12310563],\n",
       "       [5.09901951, 6.08276253, 7.07106781, 8.06225775]])"
      ]
     },
     "execution_count": 38,
     "metadata": {},
     "output_type": "execute_result"
    }
   ],
   "source": [
    "np.sqrt(l)# , dtype='float64')"
   ]
  },
  {
   "cell_type": "code",
   "execution_count": null,
   "metadata": {},
   "outputs": [],
   "source": []
  },
  {
   "cell_type": "code",
   "execution_count": null,
   "metadata": {},
   "outputs": [],
   "source": []
  },
  {
   "cell_type": "code",
   "execution_count": null,
   "metadata": {},
   "outputs": [],
   "source": []
  },
  {
   "cell_type": "markdown",
   "metadata": {},
   "source": [
    "### 5. Matrix Multiplication\n",
    "This is perhaps one operation that you would use quite frequently in any ML/DL model. You should remember a few things about multiplication.\n",
    "\n",
    "- C = AB is only defined when the second dimension of A matches the first dimension of B.\n",
    "- Further, if A is of shape(m,n), and B of shape(n,p), then C is of shape (m,p).\n",
    "- This operation is concretely defined as C(i,j) = sum(A(i,k)*B(k,j))\n",
    "    - C(i,j) is computed by taking the dot produt of i-th row of A, with j-th column of B.\n",
    "- A more useful method to think matrix multiplication is as:\n",
    "    linear combination of columns of A wighted by column entries of B."
   ]
  },
  {
   "cell_type": "code",
   "execution_count": 4,
   "metadata": {},
   "outputs": [],
   "source": [
    "X = np.array([[4,5,7], [10,11,13], [56,80,90]])\n",
    "Y = np.array([[40,50,70], [100,110,130], [560,800,900]])"
   ]
  },
  {
   "cell_type": "code",
   "execution_count": 5,
   "metadata": {},
   "outputs": [
    {
     "name": "stdout",
     "output_type": "stream",
     "text": [
      "(3, 3)\n",
      "(3, 3)\n"
     ]
    }
   ],
   "source": [
    "print(X.shape)\n",
    "print(Y.shape)"
   ]
  },
  {
   "cell_type": "code",
   "execution_count": 6,
   "metadata": {
    "scrolled": true
   },
   "outputs": [
    {
     "name": "stdout",
     "output_type": "stream",
     "text": [
      "[[ 4  5  7]\n",
      " [10 11 13]\n",
      " [56 80 90]]\n",
      "[[ 40  50  70]\n",
      " [100 110 130]\n",
      " [560 800 900]]\n"
     ]
    }
   ],
   "source": [
    "print(X)\n",
    "print(Y)"
   ]
  },
  {
   "cell_type": "code",
   "execution_count": 7,
   "metadata": {},
   "outputs": [
    {
     "name": "stdout",
     "output_type": "stream",
     "text": [
      "[[ 4580  6350  7230]\n",
      " [ 8780 12110 13830]\n",
      " [60640 83600 95320]]\n"
     ]
    }
   ],
   "source": [
    "prod = np.dot(X,Y)\n",
    "print(prod)"
   ]
  },
  {
   "cell_type": "markdown",
   "metadata": {},
   "source": [
    "### 6. Element Wise Multiplication : Hadamard Product\n",
    "\n",
    "Element wise multiplication A.B\n",
    "Notice how numpy uses the * for this. Important to be careful, and not  to confuse this with matrix multiplication."
   ]
  },
  {
   "cell_type": "code",
   "execution_count": 11,
   "metadata": {},
   "outputs": [
    {
     "name": "stdout",
     "output_type": "stream",
     "text": [
      "[[ 4  5  7]\n",
      " [10 11 13]\n",
      " [56 80 90]]\n",
      "[[3. 1. 1.]\n",
      " [1. 3. 1.]\n",
      " [1. 1. 3.]]\n"
     ]
    }
   ],
   "source": [
    "# Different from Element wise multiplication\n",
    "X = np.array([[4,5,7], [10,11,13], [56,80,90]])\n",
    "\n",
    "Y = np.eye(3)\n",
    "\n",
    "print(X)\n",
    "\n",
    "Y = Y *2\n",
    "Y = Y + 1\n",
    "print(Y)"
   ]
  },
  {
   "cell_type": "code",
   "execution_count": 12,
   "metadata": {},
   "outputs": [
    {
     "name": "stdout",
     "output_type": "stream",
     "text": [
      "[[ 12.   5.   7.]\n",
      " [ 10.  33.  13.]\n",
      " [ 56.  80. 270.]]\n"
     ]
    }
   ],
   "source": [
    "print(X*Y)"
   ]
  },
  {
   "cell_type": "markdown",
   "metadata": {},
   "source": [
    "### 7. Norms\n",
    "- Norm can be thought of as a proxy for size of a vector.\n",
    "\n",
    "We define L^p norm ||X||p = (Sum|xi|^p)^1/p\n",
    "\n",
    "p >= 1, p belongs R\n",
    "- Norm is a function that maps vectors to non-negative values. A norm satisfies the following properties:\n",
    "    - f(x) = 0 => x = 0\n",
    "    - f(x+y) <= f(x) + f(y) (Triangle Inequality)\n",
    "    - For all a belonging to R, f(a.x) = |a|f(x)\n",
    "    \n",
    "- "
   ]
  },
  {
   "cell_type": "code",
   "execution_count": 21,
   "metadata": {},
   "outputs": [],
   "source": [
    "x = np.array([-5,3,10])"
   ]
  },
  {
   "cell_type": "code",
   "execution_count": 22,
   "metadata": {},
   "outputs": [
    {
     "name": "stdout",
     "output_type": "stream",
     "text": [
      "11.575836902790225\n"
     ]
    }
   ],
   "source": [
    "lp2 = np.linalg.norm(x)\n",
    "print(lp2)"
   ]
  },
  {
   "cell_type": "code",
   "execution_count": 23,
   "metadata": {},
   "outputs": [
    {
     "name": "stdout",
     "output_type": "stream",
     "text": [
      "18.0\n"
     ]
    }
   ],
   "source": [
    "lp1 = np.linalg.norm(x,ord=1)\n",
    "print(lp1)"
   ]
  },
  {
   "cell_type": "code",
   "execution_count": 25,
   "metadata": {},
   "outputs": [
    {
     "name": "stdout",
     "output_type": "stream",
     "text": [
      "10.0\n"
     ]
    }
   ],
   "source": [
    "lpinf = np.linalg.norm(x,ord = np.inf)\n",
    "print(lpinf)"
   ]
  },
  {
   "cell_type": "code",
   "execution_count": 39,
   "metadata": {},
   "outputs": [],
   "source": [
    "################# QUIZ ###############################"
   ]
  },
  {
   "cell_type": "code",
   "execution_count": 46,
   "metadata": {},
   "outputs": [
    {
     "name": "stdout",
     "output_type": "stream",
     "text": [
      "7.0\n"
     ]
    }
   ],
   "source": [
    "# Question 1\n",
    "# (a.)\n",
    "r = np.array([[2,-2,1],[-1,2,-1],[2,-4,1]])\n",
    "lpinf = np.linalg.norm(r,ord = np.inf)\n",
    "print(lpinf)"
   ]
  },
  {
   "cell_type": "code",
   "execution_count": 47,
   "metadata": {},
   "outputs": [
    {
     "name": "stdout",
     "output_type": "stream",
     "text": [
      "6.0\n"
     ]
    }
   ],
   "source": [
    "# (b.)\n",
    "r = np.array([[2,-2,1],[-1,2,-1],[2,-4,1]])\n",
    "lp2 = np.linalg.norm(r)\n",
    "print(lp2)"
   ]
  },
  {
   "cell_type": "code",
   "execution_count": 51,
   "metadata": {},
   "outputs": [
    {
     "name": "stdout",
     "output_type": "stream",
     "text": [
      "[[-1 15]\n",
      " [-9 26]\n",
      " [-2 11]\n",
      " [ 0  0]]\n"
     ]
    }
   ],
   "source": [
    "# Question 2\n",
    "A = np.array([[1,-3,4],[-2,10,-7],[0,1,0], [0,0,0]])\n",
    "B = np.array([[5,0],[-2,11],[-3,12]])\n",
    "#print(A)\n",
    "#print(B)\n",
    "\n",
    "prod = np.dot(A,B)\n",
    "print(prod)"
   ]
  },
  {
   "cell_type": "code",
   "execution_count": null,
   "metadata": {},
   "outputs": [],
   "source": []
  }
 ],
 "metadata": {
  "kernelspec": {
   "display_name": "Python 3",
   "language": "python",
   "name": "python3"
  },
  "language_info": {
   "codemirror_mode": {
    "name": "ipython",
    "version": 3
   },
   "file_extension": ".py",
   "mimetype": "text/x-python",
   "name": "python",
   "nbconvert_exporter": "python",
   "pygments_lexer": "ipython3",
   "version": "3.8.2"
  }
 },
 "nbformat": 4,
 "nbformat_minor": 4
}

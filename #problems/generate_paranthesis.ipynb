{
 "cells": [
  {
   "cell_type": "markdown",
   "metadata": {},
   "source": []
  },
  {
   "cell_type": "code",
   "execution_count": 1,
   "metadata": {},
   "outputs": [
    {
     "name": "stdout",
     "output_type": "stream",
     "text": [
      "4\n",
      "()()()()\n",
      "()()(())\n",
      "()(())()\n",
      "()(()())\n",
      "()((()))\n",
      "(())()()\n",
      "(())(())\n",
      "(()())()\n",
      "(()()())\n",
      "(()(()))\n",
      "((()))()\n",
      "((())())\n",
      "((()()))\n",
      "(((())))\n"
     ]
    }
   ],
   "source": [
    "def genParanthesis(openB,closeB,n,s=[]):\n",
    "\n",
    "    #Base Case\n",
    "    if(closeB==n):\n",
    "        print(''.join(s))\n",
    "        return\n",
    "\n",
    "    else:\n",
    "        if (openB>closeB):\n",
    "            # You can definately put one closing bracket\n",
    "            #or you can have more opening brackets (will cover in next part)\n",
    "            s.append(')')\n",
    "            genParanthesis(openB,closeB+1,n,s)\n",
    "            s.pop() #for backtrcking\n",
    "        if(openB<n):\n",
    "            s.append('(')\n",
    "            genParanthesis(openB+1,closeB,n,s)\n",
    "            s.pop()\n",
    "    return\n",
    "n = int(input())\n",
    "genParanthesis(0,0,n)"
   ]
  },
  {
   "cell_type": "code",
   "execution_count": null,
   "metadata": {},
   "outputs": [],
   "source": []
  },
  {
   "cell_type": "code",
   "execution_count": null,
   "metadata": {},
   "outputs": [],
   "source": []
  },
  {
   "cell_type": "code",
   "execution_count": null,
   "metadata": {},
   "outputs": [],
   "source": []
  },
  {
   "cell_type": "code",
   "execution_count": null,
   "metadata": {},
   "outputs": [],
   "source": []
  },
  {
   "cell_type": "code",
   "execution_count": null,
   "metadata": {},
   "outputs": [],
   "source": []
  }
 ],
 "metadata": {
  "kernelspec": {
   "display_name": "Python 3",
   "language": "python",
   "name": "python3"
  },
  "language_info": {
   "codemirror_mode": {
    "name": "ipython",
    "version": 3
   },
   "file_extension": ".py",
   "mimetype": "text/x-python",
   "name": "python",
   "nbconvert_exporter": "python",
   "pygments_lexer": "ipython3",
   "version": "3.8.2"
  }
 },
 "nbformat": 4,
 "nbformat_minor": 4
}
